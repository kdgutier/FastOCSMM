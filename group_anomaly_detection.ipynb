{
 "cells": [
  {
   "cell_type": "code",
   "execution_count": 1,
   "metadata": {},
   "outputs": [],
   "source": [
    "import numpy as np\n",
    "import matplotlib.pyplot as plt\n",
    "\n",
    "import data.getSyntheticData as SyntheticData\n",
    "import data.getHiggsData as HiggsData\n",
    "\n",
    "from models.OCSMM import OCSMM\n",
    "from utils.gridSearch import *\n"
   ]
  },
  {
   "cell_type": "code",
   "execution_count": 2,
   "metadata": {},
   "outputs": [],
   "source": [
    "# Experiment plots\n",
    "def plot_synthetic_data(Stest, scores):\n",
    "    scores = np.squeeze(scores)\n",
    "    score_plot = [np.array([sc]*Splot[idx].shape[0]) for idx, sc in enumerate(scores)]\n",
    "    mini, maxi = -2.5, 2.5\n",
    "    norm = plt.Normalize(mini, maxi)\n",
    "    \n",
    "    fig, axes = plt.subplots(2, 6, figsize=(15, 4.5), sharey=True)\n",
    "    idx=0\n",
    "    for ax in axes.flat:\n",
    "        ax.scatter(Splot[idx][:,0], Splot[idx][:,1], \n",
    "                         c=score_plot[idx], cmap='viridis', norm=norm)\n",
    "        idx+=1\n",
    "        \n",
    "    for a, color in zip([axes[1][9%6], axes[1][10%6], axes[1][11%6]], ['green', 'red', 'purple']):\n",
    "        plt.setp(a.spines.values(), color=color, ls=':')\n",
    "        plt.setp([a.get_xticklines(), a.get_yticklines()], color=color, ls=':')\n",
    "    \n",
    "    fig.tight_layout()\n",
    "    fig.colorbar(plt.gca().get_children()[0], ax=axes.ravel().tolist()).set_label('Anomaly Score')\n",
    "    plt.show()\n",
    "\n",
    "def plot_roc_curve(Stest, Ytest, clf):\n",
    "    # Receives trained clasiffier and plots its roc curve\n",
    "    # Against Test Set.\n",
    "    print(\"Calculating anomaly scores\")\n",
    "    scores = clf.decision_function(Stest)\n",
    "    print(\"Calculating empirical p values\")\n",
    "    p_values = empirical_p_values(scores)\n",
    "    auc, best_cut, roc_curve = roc_auc(Ytest, p_values)\n",
    "    plt.plot(roc_curve[:,0], roc_curve[:,1], \n",
    "             label='(C:%f,gamma:%f)'% (np.round(C,1),np.round(gamma,2)))\n",
    "    plt.show()\n",
    "    "
   ]
  },
  {
   "cell_type": "code",
   "execution_count": null,
   "metadata": {},
   "outputs": [],
   "source": [
    "# Generate Synthetic Data\n",
    "Strain = SyntheticData.genSyntheticTrainData(n_sample=100, n_sets=50)\n",
    "Stest, Ytest = SyntheticData.getSyntheticTestData(n_sample=100, n_sets=100)\n",
    "\n",
    "Splot = SyntheticData.genSyntheticTrainData(n_sample=100, n_sets=9)\n",
    "X_anomaly1 = np.random.multivariate_normal(mean = [0, 0], cov = np.identity(2), size=100)\n",
    "X_anomaly2 = np.random.multivariate_normal(mean = [0, 0], cov = np.identity(2), size=100)\n",
    "X_anomaly3 = np.random.multivariate_normal(mean = [0, 0], cov = np.identity(2), size=100)\n",
    "# X_anomaly2 = data.genSyntheticSet(100, pmix=[0.33, 0.64, 0.03])\n",
    "# X_anomaly3 = data.genSyntheticSet(100, pmix=[0.84, 0.08, 0.08])\n",
    "Splot.extend([X_anomaly1, X_anomaly2, X_anomaly3])\n"
   ]
  },
  {
   "cell_type": "code",
   "execution_count": null,
   "metadata": {},
   "outputs": [],
   "source": [
    "# Test plot\n",
    "C = 1\n",
    "gamma = 1\n",
    "clf = OCSMM(Strain, C, gamma)\n",
    "clf.fit()\n",
    "scores = clf.decision_function(Splot)\n",
    "plot_synthetic_data(Splot, scores)\n"
   ]
  },
  {
   "cell_type": "code",
   "execution_count": null,
   "metadata": {},
   "outputs": [],
   "source": [
    "# Test Gridsearch\n",
    "gammas = [0.4, 0.5, 1, 2, 3]\n",
    "Cs = [1, 4, 5, 6]\n",
    "grids = {'gammas': gammas, 'Cs': Cs}\n",
    "performance = gridSearch(Strain, Stest, Ytest, grids)\n",
    "performance"
   ]
  },
  {
   "cell_type": "code",
   "execution_count": null,
   "metadata": {},
   "outputs": [],
   "source": [
    "C = 4\n",
    "gamma = 3\n",
    "clf = OCSMM(Strain, C, gamma)\n",
    "clf.fit()\n",
    "sc = clf.decision_function(Splot)\n",
    "p_values = empirical_p_values(sc)\n",
    "# auc, best_cut = roc_auc([0,0,0,0,0,0,0,0,0,1,1,1], p_values)\n",
    "# Ypred = (p_values < best_cut)*1\n",
    "\n",
    "plot_synthetic_data(Splot, np.exp(sc))\n",
    "# plot_data(Splot, np.exp(p_values))\n",
    "# plot_data(Splot, Ypred)"
   ]
  },
  {
   "cell_type": "code",
   "execution_count": null,
   "metadata": {},
   "outputs": [],
   "source": [
    "C = 1\n",
    "gamma = 1\n",
    "clf = OCSMM(Strain, C, gamma)\n",
    "clf.fit()\n",
    "scores = clf.decision_function(Stest)\n",
    "# plot_data(Splot, scores)\n",
    "p_values = empirical_p_values(scores)\n",
    "auc, best_cut, roc_curve = roc_auc(Ytest, p_values)\n",
    "\n",
    "\n"
   ]
  },
  {
   "cell_type": "code",
   "execution_count": 4,
   "metadata": {},
   "outputs": [],
   "source": [
    "# Generate Higgs Data\n",
    "# Varying masses HiggsSM100m HiggsSM115m HiggsSM135m HiggsSM150m\n",
    "# For train generate only background noise\n",
    "# For test generate 100 background noises and 20 sets with Higgs bosson\n",
    "HiggsStrain = HiggsData.genTrainSet('HiggsSM100m', num_events=100, seed=1)\n",
    "HiggsStest, HiggsYtest = HiggsData.genTestSet('HiggsSM100m', [100, 20], seed=101)\n"
   ]
  },
  {
   "cell_type": "code",
   "execution_count": 5,
   "metadata": {},
   "outputs": [
    {
     "name": "stdout",
     "output_type": "stream",
     "text": [
      "     pcost       dcost       gap    pres   dres\n",
      " 0:  4.1090e-01 -1.0182e+02  4e+02  1e+00  2e-15\n",
      " 1:  4.4543e-01 -2.7316e+01  3e+01  4e-03  4e-15\n",
      " 2:  4.4619e-01 -5.2263e-01  1e+00  1e-04  6e-15\n",
      " 3:  4.1252e-01 -8.8152e-02  5e-01  1e-15  2e-15\n",
      " 4:  4.0030e-01  2.6290e-01  1e-01  2e-16  1e-15\n",
      " 5:  3.7646e-01  3.4700e-01  3e-02  3e-16  1e-15\n",
      " 6:  3.6915e-01  3.6043e-01  9e-03  1e-15  1e-15\n",
      " 7:  3.6588e-01  3.6561e-01  3e-04  3e-16  1e-15\n",
      " 8:  3.6576e-01  3.6576e-01  3e-06  2e-16  1e-15\n",
      " 9:  3.6576e-01  3.6576e-01  3e-08  3e-16  1e-15\n",
      "Optimal solution found.\n"
     ]
    }
   ],
   "source": [
    "C = 1\n",
    "gamma = 1\n",
    "clf = OCSMM(HiggsStrain, C, gamma)\n",
    "clf.fit()\n"
   ]
  },
  {
   "cell_type": "code",
   "execution_count": 6,
   "metadata": {},
   "outputs": [
    {
     "data": {
      "image/png": "[encoded data removed]",
      "text/plain": [
       "<matplotlib.figure.Figure at 0x11e294da0>"
      ]
     },
     "metadata": {},
     "output_type": "display_data"
    }
   ],
   "source": [
    "plot_roc_curve(HiggsStest, HiggsYtest, clf)\n"
   ]
  },
  {
   "cell_type": "code",
   "execution_count": null,
   "metadata": {},
   "outputs": [],
   "source": []
  }
 ],
 "metadata": {
  "kernelspec": {
   "display_name": "Python 3",
   "language": "python",
   "name": "python3"
  },
  "language_info": {
   "codemirror_mode": {
    "name": "ipython",
    "version": 3
   },
   "file_extension": ".py",
   "mimetype": "text/x-python",
   "name": "python",
   "nbconvert_exporter": "python",
   "pygments_lexer": "ipython3",
   "version": "3.6.3"
  }
 },
 "nbformat": 4,
 "nbformat_minor": 2
}
