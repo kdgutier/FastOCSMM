{
 "cells": [
  {
   "cell_type": "code",
   "execution_count": 1,
   "metadata": {},
   "outputs": [],
   "source": [
    "import numpy as np\n",
    "import matplotlib.pyplot as plt\n",
    "from scipy import interp\n",
    "\n",
    "import data\n",
    "import data.getSyntheticData as SyntheticData\n",
    "\n",
    "from sklearn.metrics.pairwise import pairwise_kernels\n",
    "from sklearn.svm import OneClassSVM\n",
    "from sklearn.gaussian_process.kernels import RBF\n",
    "from sklearn.metrics import precision_score, recall_score, roc_curve, auc\n",
    "\n",
    "from sklearn.kernel_approximation import Nystroem\n",
    "\n",
    "from models.OCSMM import OCSMM\n",
    "from utils.gridSearch import *\n",
    "from utils.Nystroem_SMM import Nystroem_SMM\n",
    "\n",
    "import pickle\n",
    "import itertools\n"
   ]
  },
  {
   "cell_type": "code",
   "execution_count": 2,
   "metadata": {},
   "outputs": [],
   "source": [
    "def compute_kernel(X, sigma):\n",
    "    K = np.zeros((len(X), len(X)))\n",
    "    rbf = RBF(length_scale=sigma)\n",
    "    for (i, j) in itertools.combinations(range(len(X)), 2):\n",
    "            kernel = rbf(X[i], X[j])\n",
    "            n = X[i].shape[0]\n",
    "            K[i, j] = np.sum(np.sum(kernel, axis=0), axis=0) / (n ** 2)\n",
    "            K[j, i] = K[i, j]\n",
    "    return K\n",
    "\n",
    "def compute_cross_kernel(X, Y, sigma):\n",
    "    K = np.zeros((len(X), len(Y)))\n",
    "    rbf = RBF(length_scale=sigma)\n",
    "    for (i, j) in itertools.product(range(len(X)), range(len(Y))):\n",
    "            kernel = rbf(X[i], Y[j])\n",
    "            n_i = X[i].shape[0]\n",
    "            n_j = Y[j].shape[0]\n",
    "            K[i, j] = np.sum(np.sum(kernel, axis=0), axis=0) / (n_i * n_j)\n",
    "    return K"
   ]
  },
  {
   "cell_type": "code",
   "execution_count": 3,
   "metadata": {},
   "outputs": [],
   "source": [
    "# Experiment plots\n",
    "def plot_synthetic_data(Stest, scores):\n",
    "    scores = np.squeeze(scores)\n",
    "    score_plot = [np.array([sc]*Stest[idx].shape[0]) for idx, sc in enumerate(scores)]\n",
    "    mini, maxi = -2.5, 2.5\n",
    "    norm = plt.Normalize(mini, maxi)\n",
    "    \n",
    "    fig, axes = plt.subplots(2, 6, figsize=(15, 4.5), sharey=True)\n",
    "    idx=0\n",
    "    for ax in axes.flat:\n",
    "        ax.scatter(Stest[idx][:,0], Stest[idx][:,1], \n",
    "                         c=score_plot[idx], cmap='viridis', norm=norm)\n",
    "        idx+=1\n",
    "        \n",
    "    for a, color in zip([axes[1][9%6], axes[1][10%6], axes[1][11%6]], ['green', 'red', 'purple']):\n",
    "        plt.setp(a.spines.values(), color=color, ls=':')\n",
    "        plt.setp([a.get_xticklines(), a.get_yticklines()], color=color, ls=':')\n",
    "    \n",
    "    fig.tight_layout()\n",
    "    fig.colorbar(plt.gca().get_children()[0], ax=axes.ravel().tolist()).set_label('Anomaly Score')\n",
    "#     plt.savefig('synth_data.png')\n",
    "    plt.show()\n",
    "\n",
    "def plot_roc_curve(scores, Ytest):\n",
    "    # Receives trained clasiffier and plots its roc curve\n",
    "    # Against Test Set.\n",
    "    p_values = empirical_p_values(scores)\n",
    "    auc, best_cut, roc_curve = roc_auc(Ytest, p_values)\n",
    "    plt.plot(roc_curve[:,0], roc_curve[:,1])\n",
    "    plt.savefig('PR.png')\n",
    "    plt.show()\n",
    "    "
   ]
  },
  {
   "cell_type": "code",
   "execution_count": null,
   "metadata": {},
   "outputs": [],
   "source": [
    "# Generate Synthetic Data\n",
    "Strain = SyntheticData.genSyntheticTrainData(n_sample=100, n_sets=50)\n",
    "\n",
    "Stest = SyntheticData.genSyntheticTrainData(n_sample=100, n_sets=9)\n",
    "X_anomaly1 = np.random.multivariate_normal(mean = [0.0, 0.0], cov = np.identity(2), size=100)\n",
    "# X_anomaly2 = np.random.multivariate_normal(mean = [0.0, 0.0], cov = np.identity(2), size=100)\n",
    "# X_anomaly3 = np.random.multivariate_normal(mean = [0.0, 0.0], cov = np.identity(2), size=100)\n",
    "X_anomaly2 = SyntheticData.genSyntheticSet(100, pmix=[0.33, 0.33, 0.33], sigma_c = 0.2)\n",
    "X_anomaly3 = SyntheticData.genSyntheticSet(100, pmix=[0.33, 0.33, 0.33], sigma_c = 0.2)\n",
    "Stest.extend([X_anomaly1, X_anomaly2, X_anomaly3])\n",
    "\n",
    "Ytest = [1] * 9 + [-1] * 3"
   ]
  },
  {
   "cell_type": "code",
   "execution_count": null,
   "metadata": {},
   "outputs": [],
   "source": [
    "# Generate Synthetic Data 2\n",
    "Strain = SyntheticData.genSyntheticTrainData_1(n_sample=100, n_sets=47)\n",
    "\n",
    "# Stest = SyntheticData.genSyntheticTrainData_1(n_sample=100, n_sets=9)\n",
    "Stest = SyntheticData.genSyntheticTrainData_1(n_sample=100, n_sets=47)\n",
    "X_anomaly1 = SyntheticData.genSyntheticSet_1(100, pmix=[0.61, 0.1, 0.06, 0.23], seed=1)\n",
    "X_anomaly2 = SyntheticData.genSyntheticSet_1(100, pmix=[0.61, 0.1, 0.06, 0.23], seed=2)\n",
    "X_anomaly3 = SyntheticData.genSyntheticSet_1(100, pmix=[0.61, 0.1, 0.06, 0.23], seed=3)\n",
    "\n",
    "Strain.extend([X_anomaly1, X_anomaly2, X_anomaly3])\n",
    "Ytrain = [1] * 47 + [-1] * 3\n",
    "\n",
    "Stest.extend([X_anomaly1, X_anomaly2, X_anomaly3])\n",
    "# Ytest = [1] * 9 + [-1] * 3\n",
    "Ytest = [1] * 47 + [-1] * 3\n",
    "\n"
   ]
  },
  {
   "cell_type": "code",
   "execution_count": 22,
   "metadata": {},
   "outputs": [
    {
     "name": "stdout",
     "output_type": "stream",
     "text": [
      "100\n",
      "120\n"
     ]
    }
   ],
   "source": [
    "Strain = pickle.load(open('HiggsStrain2.obj', 'rb'))\n",
    "Stest = pickle.load(open('HiggsStest2.obj', 'rb'))\n",
    "Ytest = pickle.load(open('HiggsYtest2.obj', 'rb'))\n",
    "#Ytest = [1 - 2 * y for y in Ytest]\n",
    "Ytrain = [0] * len(Strain)\n",
    "print(len(Strain))\n",
    "print(len(Stest))"
   ]
  },
  {
   "cell_type": "code",
   "execution_count": null,
   "metadata": {},
   "outputs": [],
   "source": [
    "precision = np.zeros((10, 10))\n",
    "recall = np.zeros((10, 10))\n",
    "for i, sigma in enumerate([0.1 * i for i in range(1, 2)]):\n",
    "    K = compute_kernel(Strain, sigma)\n",
    "    Ktest = compute_cross_kernel(Stest, Strain, sigma)\n",
    "    for j, nu in enumerate([0.1 * i for i in range(1, 2)]):\n",
    "        ocsmm = OneClassSVM(kernel='precomputed', nu=nu)\n",
    "        ocsmm.fit(K)\n",
    "        Ypred_train = ocsmm.predict(K)\n",
    "        scores_train = ocsmm.decision_function(K)\n",
    "        Ypred = ocsmm.predict(Ktest)\n",
    "        scores = ocsmm.decision_function(Ktest)\n",
    "#         precision[i, j] = precision_score(Ytest, Ypred)\n",
    "#         recall[i, j] = recall_score(Ytest, Ypred)\n",
    "#         print('sigma: %f, nu: %f, precision: %f, recall: %f' % (sigma, nu, precision[i, j], recall[i, j]))\n",
    "#     plt.figure()\n",
    "#     plt.plot(recall[i, :], precision[i, :])\n",
    "# for i in range(10):\n",
    "\n",
    "print(scores)\n",
    "fpr, tpr, th = roc_curve(Ytest, scores)\n",
    "plt.plot(fpr, tpr)\n",
    "\n",
    "\n",
    "plot_synthetic_data(Stest, -100 * scores)\n",
    "plot_synthetic_data(Strain[38:50], -100 * scores_train[38:50])\n",
    "fpr, tpr, th = roc_curve([1] * 47 + [-1] * 3, scores_train)\n",
    "plt.plot(fpr, tpr)\n",
    "print(scores_train)"
   ]
  },
  {
   "cell_type": "code",
   "execution_count": null,
   "metadata": {},
   "outputs": [],
   "source": [
    "print(len(Strain))"
   ]
  },
  {
   "cell_type": "code",
   "execution_count": null,
   "metadata": {},
   "outputs": [],
   "source": [
    "# plt.figure()\n",
    "# plt.plot(recall[1, :-1], precision[1, :-1])\n",
    "# plt.xlabel('Recall')\n",
    "# plt.ylabel('Precision')\n",
    "# plt.savefig('PR.png')"
   ]
  },
  {
   "cell_type": "code",
   "execution_count": null,
   "metadata": {},
   "outputs": [],
   "source": [
    "print(scores)\n",
    "print(Ypred)\n",
    "print(Ytest)"
   ]
  },
  {
   "cell_type": "code",
   "execution_count": 4,
   "metadata": {},
   "outputs": [
    {
     "ename": "NameError",
     "evalue": "name 'Strain' is not defined",
     "output_type": "error",
     "traceback": [
      "\u001b[0;31m---------------------------------------------------------------------------\u001b[0m",
      "\u001b[0;31mNameError\u001b[0m                                 Traceback (most recent call last)",
      "\u001b[0;32m<ipython-input-4-a7750c1d0a22>\u001b[0m in \u001b[0;36m<module>\u001b[0;34m()\u001b[0m\n\u001b[1;32m     12\u001b[0m \u001b[0msigma\u001b[0m \u001b[0;34m=\u001b[0m \u001b[0;36m0.1\u001b[0m\u001b[0;34m\u001b[0m\u001b[0m\n\u001b[1;32m     13\u001b[0m \u001b[0mnyst\u001b[0m \u001b[0;34m=\u001b[0m \u001b[0mNystroem_SMM\u001b[0m\u001b[0;34m(\u001b[0m\u001b[0mkernel\u001b[0m\u001b[0;34m=\u001b[0m\u001b[0mcompute_cross_kernel\u001b[0m\u001b[0;34m,\u001b[0m \u001b[0mkernel_params\u001b[0m\u001b[0;34m=\u001b[0m\u001b[0msigma\u001b[0m\u001b[0;34m,\u001b[0m \u001b[0mn_components\u001b[0m\u001b[0;34m=\u001b[0m\u001b[0mn_components\u001b[0m\u001b[0;34m)\u001b[0m\u001b[0;34m\u001b[0m\u001b[0m\n\u001b[0;32m---> 14\u001b[0;31m \u001b[0mdata_transformed\u001b[0m \u001b[0;34m=\u001b[0m \u001b[0mnyst\u001b[0m\u001b[0;34m.\u001b[0m\u001b[0mfit_transform\u001b[0m\u001b[0;34m(\u001b[0m\u001b[0mnp\u001b[0m\u001b[0;34m.\u001b[0m\u001b[0marray\u001b[0m\u001b[0;34m(\u001b[0m\u001b[0mStrain\u001b[0m\u001b[0;34m)\u001b[0m\u001b[0;34m)\u001b[0m\u001b[0;34m\u001b[0m\u001b[0m\n\u001b[0m\u001b[1;32m     15\u001b[0m \u001b[0mocsvm\u001b[0m \u001b[0;34m=\u001b[0m \u001b[0mOneClassSVM\u001b[0m\u001b[0;34m(\u001b[0m\u001b[0mkernel\u001b[0m\u001b[0;34m=\u001b[0m\u001b[0;34m'linear'\u001b[0m\u001b[0;34m,\u001b[0m \u001b[0mnu\u001b[0m\u001b[0;34m=\u001b[0m\u001b[0;36m0.1\u001b[0m\u001b[0;34m)\u001b[0m\u001b[0;34m\u001b[0m\u001b[0m\n\u001b[1;32m     16\u001b[0m \u001b[0mocsvm\u001b[0m\u001b[0;34m.\u001b[0m\u001b[0mfit\u001b[0m\u001b[0;34m(\u001b[0m\u001b[0mdata_transformed\u001b[0m\u001b[0;34m)\u001b[0m\u001b[0;34m\u001b[0m\u001b[0m\n",
      "\u001b[0;31mNameError\u001b[0m: name 'Strain' is not defined"
     ]
    }
   ],
   "source": [
    "def mean_map_kernel(X, Y, sigma):\n",
    "    X = X.reshape(-1, 2)\n",
    "    Y = Y.reshape(-1, 2)\n",
    "    rbf = RBF(length_scale=sigma)\n",
    "    kernel = rbf(X, Y)\n",
    "    n_i = X.shape[0]\n",
    "    n_j = Y.shape[0]\n",
    "    K = np.sum(np.sum(kernel, axis=0), axis=0) / (n_i * n_j)\n",
    "    return K\n",
    "\n",
    "n_components = 10\n",
    "sigma = 0.1\n",
    "nyst = Nystroem_SMM(kernel=compute_cross_kernel, kernel_params=sigma, n_components=n_components)\n",
    "data_transformed = nyst.fit_transform(np.array(Strain))\n",
    "ocsvm = OneClassSVM(kernel='linear', nu=0.1)\n",
    "ocsvm.fit(data_transformed)\n",
    "Ypred = ocsvm.predict(data_transformed)"
   ]
  },
  {
   "cell_type": "code",
   "execution_count": null,
   "metadata": {},
   "outputs": [],
   "source": [
    "print(Ypred)\n",
    "# Fit Nystroem\n",
    "len(Strain)"
   ]
  },
  {
   "cell_type": "code",
   "execution_count": 6,
   "metadata": {},
   "outputs": [],
   "source": [
    "def nystroem_fit_predict(Strain, seed):\n",
    "    n_components = 10\n",
    "    sigma = 0.1\n",
    "    nyst = Nystroem_SMM(kernel=compute_cross_kernel, kernel_params=sigma, \n",
    "                        n_components=n_components, random_state=seed)\n",
    "    data_transformed = nyst.fit_transform(np.array(Strain))\n",
    "    ocsvm = OneClassSVM(kernel='linear', nu=0.1)\n",
    "    ocsvm.fit(data_transformed)\n",
    "    scores_train = ocsvm.decision_function(data_transformed)\n",
    "    Ypred = ocsvm.predict(data_transformed)\n",
    "    return Ypred, scores_train\n",
    "\n",
    "def base_roc(Strain, Ytrain):\n",
    "    sigma = 0.1\n",
    "    K = compute_kernel(Strain, sigma)\n",
    "    ocsmm = OneClassSVM(kernel='precomputed', nu=0.1)\n",
    "    ocsmm.fit(K)\n",
    "    Ypred_train = ocsmm.predict(K)\n",
    "    scores = ocsmm.decision_function(K)\n",
    "    fpr, tpr, thresholds = roc_curve(Ytrain, scores)\n",
    "    \n",
    "    mean_fpr = np.linspace(0, 1, 100)\n",
    "    tpr = interp(mean_fpr, fpr, tpr)\n",
    "    tpr[0] = 0.0\n",
    "    roc_auc = auc(mean_fpr, tpr)\n",
    "    return mean_fpr, tpr, roc_auc\n",
    "\n",
    "def boostrap_roc(Strain, Ytrain, seeds):\n",
    "    tprs = []\n",
    "    aucs = []\n",
    "    mean_fpr = np.linspace(0, 1, 100)\n",
    "\n",
    "    for k in seeds:\n",
    "        pred, scores = nystroem_fit_predict(Strain, seed=k)\n",
    "        # Compute ROC curve and area the curve\n",
    "        fpr, tpr, thresholds = roc_curve(Ytrain, scores)\n",
    "        tprs.append(interp(mean_fpr, fpr, tpr))\n",
    "        tprs[-1][0] = 0.0\n",
    "        roc_auc = auc(fpr, tpr)\n",
    "        aucs.append(roc_auc)\n",
    "    return mean_fpr, tprs, aucs\n",
    "\n",
    "def plot_mean_and_CI(mean_fpr, tprs, aucs, base_fpr, base_tpr, base_auc):\n",
    "    # Chance baseline\n",
    "    plt.plot([0, 1], [0, 1], linestyle='--', lw=2, color='r',\n",
    "             label='Chance', alpha=.8)\n",
    "    \n",
    "    # Bootstrap roc\n",
    "    mean_tpr = np.mean(tprs, axis=0)\n",
    "    mean_tpr[-1] = 1.0\n",
    "    mean_auc = auc(mean_fpr, mean_tpr)\n",
    "    std_auc = np.std(aucs)\n",
    "    plt.plot(mean_fpr, mean_tpr, color='b',\n",
    "             label=r'Mean ROC (AUC = %0.2f $\\pm$ %0.2f)' % (mean_auc, std_auc),\n",
    "             lw=2, alpha=.8)\n",
    "    \n",
    "    std_tpr = np.std(tprs, axis=0)\n",
    "    tprs_upper = np.minimum(mean_tpr + std_tpr, 1)\n",
    "    tprs_lower = np.maximum(mean_tpr - std_tpr, 0)\n",
    "    plt.fill_between(mean_fpr, tprs_lower, tprs_upper, color='grey', alpha=.2,\n",
    "                     label=r'$\\pm$ 1 std. dev.')\n",
    "    \n",
    "    # Complete baseline\n",
    "    plt.plot(base_fpr, base_tpr, color='g',\n",
    "            label=r'Base ROC (AUC = %0.2f)' % (base_auc))\n",
    "    \n",
    "    plt.xlim([-0.05, 1.05])\n",
    "    plt.ylim([-0.05, 1.05])\n",
    "    plt.xlabel('False Positive Rate')\n",
    "    plt.ylabel('True Positive Rate')\n",
    "    plt.title('Receiver Operating Characteristic Curve')\n",
    "    plt.legend(loc=\"lower right\")\n",
    "    plt.show()\n",
    "    "
   ]
  },
  {
   "cell_type": "code",
   "execution_count": 9,
   "metadata": {},
   "outputs": [],
   "source": [
    "def nystroem_fit_predict2(Strain, Stest, seed, sigma, nu):\n",
    "    n_components = 10\n",
    "    #sigma = 0.1\n",
    "    nyst = Nystroem_SMM(kernel=compute_cross_kernel, kernel_params=sigma, \n",
    "                        n_components=n_components, random_state=seed)\n",
    "    transformed_train = nyst.fit_transform(np.array(Strain))\n",
    "    \n",
    "    ocsvm = OneClassSVM(kernel='linear', nu=nu)\n",
    "    ocsvm.fit(transformed_train)\n",
    "    \n",
    "    transformed_test = nyst.fit_transform(np.array(Stest))\n",
    "    scores = ocsvm.decision_function(transformed_test)\n",
    "    Ypred = ocsvm.predict(transformed_test)\n",
    "    return Ypred, scores\n",
    "\n",
    "def base_roc2(Strain, Ytrain, Stest, Ytest):\n",
    "    sigma = 0.1\n",
    "    K = compute_kernel(Strain, sigma)\n",
    "    ocsmm = OneClassSVM(kernel='precomputed', nu=0.1)\n",
    "    ocsmm.fit(K)\n",
    "    \n",
    "    Ktest = compute_cross_kernel(Stest, Strain, sigma)\n",
    "    scores = ocsmm.decision_function(Ktest)\n",
    "    fpr, tpr, thresholds = roc_curve(Ytest, scores)\n",
    "    \n",
    "    mean_fpr = np.linspace(0, 1, 100)\n",
    "    tpr = interp(mean_fpr, fpr, tpr)\n",
    "    tpr[0] = 0.0\n",
    "    roc_auc = auc(mean_fpr, tpr)\n",
    "    return mean_fpr, tpr, roc_auc\n",
    "\n",
    "def boostrap_roc2(Strain, Ytrain, Stest, Ytest, seeds, sigma, nu):\n",
    "    tprs = []\n",
    "    aucs = []\n",
    "    mean_fpr = np.linspace(0, 1, 100)\n",
    "\n",
    "    for k in seeds:\n",
    "        pred, scores = nystroem_fit_predict2(Strain, Stest, k, sigma, nu)\n",
    "        # Compute ROC curve and area the curve\n",
    "        fpr, tpr, thresholds = roc_curve(Ytest, scores)\n",
    "        tprs.append(interp(mean_fpr, fpr, tpr))\n",
    "        tprs[-1][0] = 0.0\n",
    "        roc_auc = auc(fpr, tpr)\n",
    "        aucs.append(roc_auc)\n",
    "    return mean_fpr, tprs, aucs\n",
    "\n",
    "def plot_mean_and_CI(mean_fpr, tprs, aucs, base_fpr, base_tpr, base_auc):\n",
    "    # Chance baseline\n",
    "    plt.plot([0, 1], [0, 1], linestyle='--', lw=2, color='r',\n",
    "             label='Chance', alpha=.8)\n",
    "    \n",
    "    # Bootstrap roc\n",
    "    mean_tpr = np.mean(tprs, axis=0)\n",
    "    mean_tpr[-1] = 1.0\n",
    "    mean_auc = auc(mean_fpr, mean_tpr)\n",
    "    std_auc = np.std(aucs)\n",
    "    plt.plot(mean_fpr, mean_tpr, color='b',\n",
    "             label=r'Mean ROC (AUC = %0.2f $\\pm$ %0.2f)' % (mean_auc, std_auc),\n",
    "             lw=2, alpha=.8)\n",
    "    \n",
    "    std_tpr = np.std(tprs, axis=0)\n",
    "    tprs_upper = np.minimum(mean_tpr + std_tpr, 1)\n",
    "    tprs_lower = np.maximum(mean_tpr - std_tpr, 0)\n",
    "    plt.fill_between(mean_fpr, tprs_lower, tprs_upper, color='grey', alpha=.2,\n",
    "                     label=r'$\\pm$ 1 std. dev.')\n",
    "    \n",
    "    # Complete baseline\n",
    "    plt.plot(base_fpr, base_tpr, color='g',\n",
    "            label=r'Base ROC (AUC = %0.2f)' % (base_auc))\n",
    "    \n",
    "    plt.xlim([-0.05, 1.05])\n",
    "    plt.ylim([-0.05, 1.05])\n",
    "    plt.xlabel('False Positive Rate')\n",
    "    plt.ylabel('True Positive Rate')\n",
    "    plt.title('Receiver Operating Characteristic Curve')\n",
    "    plt.legend(loc=\"lower right\")\n",
    "    plt.show()\n",
    "    "
   ]
  },
  {
   "cell_type": "code",
   "execution_count": 16,
   "metadata": {},
   "outputs": [],
   "source": [
    "# Generate Synthetic Data 2\n",
    "Strain = SyntheticData.genSyntheticTrainData_1(n_sample=100, n_sets=50)\n",
    "\n",
    "# Stest = SyntheticData.genSyntheticTrainData_1(n_sample=100, n_sets=9)\n",
    "Stest = SyntheticData.genSyntheticTrainData_1(n_sample=100, n_sets=47)\n",
    "X_anomaly1 = SyntheticData.genSyntheticSet_1(100, pmix=[0.61, 0.1, 0.06, 0.23], seed=1)\n",
    "X_anomaly2 = SyntheticData.genSyntheticSet_1(100, pmix=[0.61, 0.1, 0.06, 0.23], seed=2)\n",
    "X_anomaly3 = SyntheticData.genSyntheticSet_1(100, pmix=[0.61, 0.1, 0.06, 0.23], seed=3)\n",
    "\n",
    "#Strain.extend([X_anomaly1, X_anomaly2, X_anomaly3])\n",
    "Ytrain = [1] * 50 #+ [-1] * 3\n",
    "\n",
    "Stest.extend([X_anomaly1, X_anomaly2, X_anomaly3])\n",
    "# Ytest = [1] * 9 + [-1] * 3\n",
    "Ytest = [1] * 47 + [-1] * 3\n"
   ]
  },
  {
   "cell_type": "code",
   "execution_count": 7,
   "metadata": {},
   "outputs": [
    {
     "data": {
      "image/png": "[encoded data removed]",
      "text/plain": [
       "<Figure size 432x288 with 1 Axes>"
      ]
     },
     "metadata": {
      "needs_background": "light"
     },
     "output_type": "display_data"
    }
   ],
   "source": [
    "# Run classifier with cross-validation and plot ROC curves\n",
    "seeds = [0,1,2,3,4,5,6,7,8,9]\n",
    "\n",
    "base_fpr, base_tpr, base_auc = base_roc(Strain, Ytrain)\n",
    "mean_fpr, tprs, aucs = boostrap_roc(Strain, Ytrain, seeds)\n",
    "plot_mean_and_CI(mean_fpr, tprs, aucs, base_fpr, base_tpr, base_auc)\n",
    "\n",
    "# base_fpr, base_tpr, base_auc = base_roc2(Strain, Ytrain, Stest, Ytest)\n",
    "# mean_fpr, tprs, aucs = boostrap_roc2(Strain, Ytrain, Stest, Ytest, seeds)\n",
    "# plot_mean_and_CI(mean_fpr, tprs, aucs, base_fpr, base_tpr, base_auc)\n"
   ]
  },
  {
   "cell_type": "code",
   "execution_count": 12,
   "metadata": {},
   "outputs": [],
   "source": [
    "def plot_mean_ROC_search(mean_fpr, tprs, aucs, sigma, nu):\n",
    "    # Bootstrap roc\n",
    "    mean_tpr = np.mean(tprs, axis=0)\n",
    "    mean_tpr[-1] = 1.0\n",
    "    mean_auc = auc(mean_fpr, mean_tpr)\n",
    "    std_auc = np.std(aucs)\n",
    "    plt.plot(mean_fpr, mean_tpr, color='b',\n",
    "             label=r'sigma=%0.2f, nu=%0.2f (AUC = %0.2f $\\pm$ %0.2f)' % (sigma, nu, mean_auc, std_auc),\n",
    "             lw=2, alpha=.8)\n",
    "    '''\n",
    "    std_tpr = np.std(tprs, axis=0)\n",
    "    tprs_upper = np.minimum(mean_tpr + std_tpr, 1)\n",
    "    tprs_lower = np.maximum(mean_tpr - std_tpr, 0)\n",
    "    plt.fill_between(mean_fpr, tprs_lower, tprs_upper, color='grey', alpha=.2,\n",
    "                     label=r'$\\pm$ 1 std. dev.')\n",
    "    '''\n",
    "    \n",
    "    \n",
    "    \n",
    "    \n",
    "    "
   ]
  },
  {
   "cell_type": "code",
   "execution_count": null,
   "metadata": {},
   "outputs": [
    {
     "name": "stdout",
     "output_type": "stream",
     "text": [
      "AUC for sigma = 0.10, nu = 0.01 is 0.58\n"
     ]
    }
   ],
   "source": [
    "# Run classifier with cross-validation and plot ROC curves\n",
    "seeds = [0]\n",
    "sigmas = [0.1,0.2,0.3,0.5,0.05]\n",
    "nus = [0.01]\n",
    "#base_fpr, base_tpr, base_auc = base_roc2(Strain, Ytrain, Stest, Ytest)\n",
    "plt.figure(figsize=(15,10))\n",
    "for nu in nus:\n",
    "    for sigma in sigmas:\n",
    "        \n",
    "        mean_fpr, tprs, aucs = boostrap_roc2(Strain, Ytrain, Stest, Ytest, seeds, sigma, nu)\n",
    "        mean_tpr = np.mean(tprs, axis=0)\n",
    "        mean_tpr[-1] = 1.0\n",
    "        mean_auc = auc(mean_fpr, mean_tpr)\n",
    "        #plot_mean_ROC_search(mean_fpr, tprs, aucs, sigma, nu)\n",
    "        print('AUC for sigma = %0.2f, nu = %0.2f is %0.2f'%(sigma,nu,mean_auc))\n",
    "#plot_mean_and_CI(mean_fpr, tprs, aucs, base_fpr, base_tpr, base_auc)\n",
    "plt.xlim([-0.05, 1.05])\n",
    "plt.xlabel('False Positive Rate')\n",
    "plt.ylabel('True Positive Rate')\n",
    "plt.title('Mean ROC Curve Hyper Parameter Search')\n",
    "plt.legend(loc=\"lower right\")\n",
    "plt.show()"
   ]
  },
  {
   "cell_type": "code",
   "execution_count": 9,
   "metadata": {},
   "outputs": [
    {
     "data": {
      "text/plain": [
       "12"
      ]
     },
     "execution_count": 9,
     "metadata": {},
     "output_type": "execute_result"
    }
   ],
   "source": []
  },
  {
   "cell_type": "code",
   "execution_count": null,
   "metadata": {},
   "outputs": [],
   "source": []
  }
 ],
 "metadata": {
  "kernelspec": {
   "display_name": "Python 3",
   "language": "python",
   "name": "python3"
  },
  "language_info": {
   "codemirror_mode": {
    "name": "ipython",
    "version": 3
   },
   "file_extension": ".py",
   "mimetype": "text/x-python",
   "name": "python",
   "nbconvert_exporter": "python",
   "pygments_lexer": "ipython3",
   "version": "3.6.4"
  }
 },
 "nbformat": 4,
 "nbformat_minor": 2
}
