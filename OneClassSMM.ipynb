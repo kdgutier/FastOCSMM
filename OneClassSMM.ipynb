{
 "cells": [
  {
   "cell_type": "code",
   "execution_count": 117,
   "metadata": {},
   "outputs": [],
   "source": [
    "import numpy as np\n",
    "import matplotlib.pyplot as plt\n",
    "\n",
    "import data\n",
    "import data.getSyntheticData as SyntheticData\n",
    "\n",
    "from sklearn.metrics.pairwise import pairwise_kernels\n",
    "from sklearn.svm import OneClassSVM\n",
    "from sklearn.gaussian_process.kernels import RBF\n",
    "from sklearn.metrics import precision_score, recall_score\n",
    "\n",
    "from models.OCSMM import OCSMM\n",
    "from utils.gridSearch import *\n",
    "\n",
    "import pickle\n",
    "import itertools\n"
   ]
  },
  {
   "cell_type": "code",
   "execution_count": 118,
   "metadata": {},
   "outputs": [],
   "source": [
    "def compute_kernel(X, sigma):\n",
    "    K = np.zeros((len(X), len(X)))\n",
    "    rbf = RBF(length_scale=sigma)\n",
    "    for (i, j) in itertools.combinations(range(len(X)), 2):\n",
    "            kernel = rbf(X[i], X[j])\n",
    "            n = X[i].shape[0]\n",
    "            K[i, j] = np.sum(np.sum(kernel, axis=0), axis=0) / (n ** 2)\n",
    "            K[j, i] = K[i, j]\n",
    "    return K\n",
    "\n",
    "def compute_cross_kernel(X, Y, sigma):\n",
    "    K = np.zeros((len(X), len(Y)))\n",
    "    rbf = RBF(length_scale=sigma)\n",
    "    for (i, j) in itertools.product(range(len(X)), range(len(Y))):\n",
    "            kernel = rbf(X[i], Y[j])\n",
    "            n_i = X[i].shape[0]\n",
    "            n_j = Y[j].shape[0]\n",
    "            K[i, j] = np.sum(np.sum(kernel, axis=0), axis=0) / (n_i * n_j)\n",
    "    return K"
   ]
  },
  {
   "cell_type": "code",
   "execution_count": 149,
   "metadata": {},
   "outputs": [],
   "source": [
    "# Experiment plots\n",
    "def plot_synthetic_data(Stest, scores):\n",
    "    scores = np.squeeze(scores)\n",
    "    score_plot = [np.array([sc]*Splot[idx].shape[0]) for idx, sc in enumerate(scores)]\n",
    "    mini, maxi = -2.5, 2.5\n",
    "    norm = plt.Normalize(mini, maxi)\n",
    "    \n",
    "    fig, axes = plt.subplots(2, 6, figsize=(15, 4.5), sharey=True)\n",
    "    idx=0\n",
    "    for ax in axes.flat:\n",
    "        ax.scatter(Splot[idx][:,0], Splot[idx][:,1], \n",
    "                         c=score_plot[idx], cmap='viridis', norm=norm)\n",
    "        idx+=1\n",
    "        \n",
    "    for a, color in zip([axes[1][9%6], axes[1][10%6], axes[1][11%6]], ['green', 'red', 'purple']):\n",
    "        plt.setp(a.spines.values(), color=color, ls=':')\n",
    "        plt.setp([a.get_xticklines(), a.get_yticklines()], color=color, ls=':')\n",
    "    \n",
    "    fig.tight_layout()\n",
    "    fig.colorbar(plt.gca().get_children()[0], ax=axes.ravel().tolist()).set_label('Anomaly Score')\n",
    "#     plt.savefig('synth_data.png')\n",
    "    plt.show()\n",
    "\n",
    "def plot_roc_curve(scores, Ytest):\n",
    "    # Receives trained clasiffier and plots its roc curve\n",
    "    # Against Test Set.\n",
    "    p_values = empirical_p_values(scores)\n",
    "    auc, best_cut, roc_curve = roc_auc(Ytest, p_values)\n",
    "    plt.plot(roc_curve[:,0], roc_curve[:,1])\n",
    "    plt.savefig('PR.png')\n",
    "    plt.show()\n",
    "    "
   ]
  },
  {
   "cell_type": "code",
   "execution_count": 136,
   "metadata": {},
   "outputs": [],
   "source": [
    "# Generate Synthetic Data\n",
    "Strain = SyntheticData.genSyntheticTrainData(n_sample=100, n_sets=50)\n",
    "\n",
    "Stest = SyntheticData.genSyntheticTrainData(n_sample=100, n_sets=9)\n",
    "X_anomaly1 = np.random.multivariate_normal(mean = [0.0, 0.0], cov = np.identity(2), size=100)\n",
    "# X_anomaly2 = np.random.multivariate_normal(mean = [0.0, 0.0], cov = np.identity(2), size=100)\n",
    "# X_anomaly3 = np.random.multivariate_normal(mean = [0.0, 0.0], cov = np.identity(2), size=100)\n",
    "X_anomaly2 = SyntheticData.genSyntheticSet(100, pmix=[0.33, 0.64, 0.03])\n",
    "X_anomaly3 = SyntheticData.genSyntheticSet(100, pmix=[0.84, 0.08, 0.08])\n",
    "Stest.extend([X_anomaly1, X_anomaly2, X_anomaly3])\n",
    "Ytest = [1] * 9 + [-1] * 3"
   ]
  },
  {
   "cell_type": "code",
   "execution_count": 152,
   "metadata": {},
   "outputs": [
    {
     "name": "stdout",
     "output_type": "stream",
     "text": [
      "100\n",
      "120\n"
     ]
    }
   ],
   "source": [
    "Strain = pickle.load(open('HiggsStrain.pkl', 'rb'))\n",
    "Stest = pickle.load(open('HiggsStest.pkl', 'rb'))\n",
    "Ytest = pickle.load(open('HiggsYtest.pkl', 'rb'))\n",
    "Ytest = [1 - 2 * y for y in Ytest]\n",
    "print(len(Strain))\n",
    "print(len(Stest))"
   ]
  },
  {
   "cell_type": "code",
   "execution_count": 153,
   "metadata": {},
   "outputs": [
    {
     "name": "stdout",
     "output_type": "stream",
     "text": [
      "sigma: 0.100000, nu: 0.100000, precision: 0.833333, recall: 1.000000\n",
      "[1.71597634e-03 2.28820301e-03 2.37765759e-03 2.23325366e-03\n",
      " 2.85834500e-03 1.27443536e-03 2.89079242e-03 2.26282116e-03\n",
      " 2.02441326e-03 2.06703044e-03 2.33381226e-03 2.17066872e-03\n",
      " 4.82355645e-04 1.76162271e-03 1.29679650e-03 1.30531347e-03\n",
      " 2.43987314e-03 1.58966721e-03 7.44357561e-04 1.76171297e-03\n",
      " 1.77590247e-03 1.88178860e-03 2.58542887e-03 3.41355395e-03\n",
      " 1.27585906e-03 1.43296301e-03 9.63392478e-04 3.08875876e-03\n",
      " 1.88966506e-03 2.10653488e-03 4.31739595e-03 1.36318060e-03\n",
      " 2.23236712e-03 5.11681637e-04 2.56227397e-03 2.67287665e-03\n",
      " 2.58173943e-03 2.19443726e-03 1.13433297e-03 2.17757296e-03\n",
      " 5.65591745e-04 2.13611825e-03 1.48654773e-03 1.66061787e-03\n",
      " 2.19257538e-03 5.44138162e-04 1.58927493e-03 2.16939769e-03\n",
      " 1.99774543e-04 1.43126038e-03 2.41817663e-03 2.32130008e-03\n",
      " 1.76304656e-03 8.22080936e-04 6.00959689e-04 2.39182491e-03\n",
      " 3.82015735e-04 3.96543045e-04 2.74428900e-03 1.51055841e-03\n",
      " 5.62006001e-04 2.75226482e-03 1.32142089e-03 1.37796267e-03\n",
      " 3.77492138e-03 1.37093710e-03 1.37052932e-03 1.25622508e-03\n",
      " 1.78221341e-03 1.17255689e-03 3.55150311e-05 1.57840196e-03\n",
      " 1.12969369e-03 1.66519651e-03 1.78827289e-03 2.56389602e-03\n",
      " 2.17803515e-03 7.32082850e-04 1.23023832e-03 9.54943445e-04\n",
      " 2.96378958e-03 1.19019910e-03 2.26000128e-03 8.44233741e-04\n",
      " 3.20439228e-03 1.50632847e-03 7.36268263e-04 2.30287597e-03\n",
      " 2.15306767e-03 2.05204586e-03 1.47287055e-03 1.00036494e-03\n",
      " 3.69730221e-03 2.21869655e-03 1.08485539e-03 2.55497060e-03\n",
      " 1.81251826e-03 5.67895430e-04 2.25395953e-03 1.24454558e-03\n",
      " 1.69656283e-03 2.26561457e-03 2.33837177e-03 2.21770771e-03\n",
      " 2.83857163e-03 1.25356922e-03 2.86494750e-03 2.23666081e-03\n",
      " 2.00747580e-03 2.04838911e-03 2.29310025e-03 2.09810308e-03\n",
      " 4.51511259e-04 1.74087350e-03 1.28631372e-03 1.26842821e-03\n",
      " 2.42683276e-03 1.51742640e-03 7.29951886e-04 1.69800575e-03]\n"
     ]
    },
    {
     "ename": "IndexError",
     "evalue": "list index out of range",
     "output_type": "error",
     "traceback": [
      "\u001b[0;31m---------------------------------------------------------------------------\u001b[0m",
      "\u001b[0;31mIndexError\u001b[0m                                Traceback (most recent call last)",
      "\u001b[0;32m<ipython-input-153-f52752eb5d24>\u001b[0m in \u001b[0;36m<module>\u001b[0;34m()\u001b[0m\n\u001b[1;32m     17\u001b[0m \u001b[0;34m\u001b[0m\u001b[0m\n\u001b[1;32m     18\u001b[0m \u001b[0mprint\u001b[0m\u001b[0;34m(\u001b[0m\u001b[0mscores\u001b[0m\u001b[0;34m)\u001b[0m\u001b[0;34m\u001b[0m\u001b[0m\n\u001b[0;32m---> 19\u001b[0;31m \u001b[0mplot_synthetic_data\u001b[0m\u001b[0;34m(\u001b[0m\u001b[0mStest\u001b[0m\u001b[0;34m,\u001b[0m \u001b[0;36m100\u001b[0m \u001b[0;34m*\u001b[0m \u001b[0mscores\u001b[0m\u001b[0;34m)\u001b[0m\u001b[0;34m\u001b[0m\u001b[0m\n\u001b[0m\u001b[1;32m     20\u001b[0m \u001b[0mplot_roc_curve\u001b[0m\u001b[0;34m(\u001b[0m\u001b[0mscores\u001b[0m\u001b[0;34m,\u001b[0m \u001b[0mYtest\u001b[0m\u001b[0;34m)\u001b[0m\u001b[0;34m\u001b[0m\u001b[0m\n",
      "\u001b[0;32m<ipython-input-149-267c441467bf>\u001b[0m in \u001b[0;36mplot_synthetic_data\u001b[0;34m(Stest, scores)\u001b[0m\n\u001b[1;32m      2\u001b[0m \u001b[0;32mdef\u001b[0m \u001b[0mplot_synthetic_data\u001b[0m\u001b[0;34m(\u001b[0m\u001b[0mStest\u001b[0m\u001b[0;34m,\u001b[0m \u001b[0mscores\u001b[0m\u001b[0;34m)\u001b[0m\u001b[0;34m:\u001b[0m\u001b[0;34m\u001b[0m\u001b[0m\n\u001b[1;32m      3\u001b[0m     \u001b[0mscores\u001b[0m \u001b[0;34m=\u001b[0m \u001b[0mnp\u001b[0m\u001b[0;34m.\u001b[0m\u001b[0msqueeze\u001b[0m\u001b[0;34m(\u001b[0m\u001b[0mscores\u001b[0m\u001b[0;34m)\u001b[0m\u001b[0;34m\u001b[0m\u001b[0m\n\u001b[0;32m----> 4\u001b[0;31m     \u001b[0mscore_plot\u001b[0m \u001b[0;34m=\u001b[0m \u001b[0;34m[\u001b[0m\u001b[0mnp\u001b[0m\u001b[0;34m.\u001b[0m\u001b[0marray\u001b[0m\u001b[0;34m(\u001b[0m\u001b[0;34m[\u001b[0m\u001b[0msc\u001b[0m\u001b[0;34m]\u001b[0m\u001b[0;34m*\u001b[0m\u001b[0mSplot\u001b[0m\u001b[0;34m[\u001b[0m\u001b[0midx\u001b[0m\u001b[0;34m]\u001b[0m\u001b[0;34m.\u001b[0m\u001b[0mshape\u001b[0m\u001b[0;34m[\u001b[0m\u001b[0;36m0\u001b[0m\u001b[0;34m]\u001b[0m\u001b[0;34m)\u001b[0m \u001b[0;32mfor\u001b[0m \u001b[0midx\u001b[0m\u001b[0;34m,\u001b[0m \u001b[0msc\u001b[0m \u001b[0;32min\u001b[0m \u001b[0menumerate\u001b[0m\u001b[0;34m(\u001b[0m\u001b[0mscores\u001b[0m\u001b[0;34m)\u001b[0m\u001b[0;34m]\u001b[0m\u001b[0;34m\u001b[0m\u001b[0m\n\u001b[0m\u001b[1;32m      5\u001b[0m     \u001b[0mmini\u001b[0m\u001b[0;34m,\u001b[0m \u001b[0mmaxi\u001b[0m \u001b[0;34m=\u001b[0m \u001b[0;34m-\u001b[0m\u001b[0;36m2.5\u001b[0m\u001b[0;34m,\u001b[0m \u001b[0;36m2.5\u001b[0m\u001b[0;34m\u001b[0m\u001b[0m\n\u001b[1;32m      6\u001b[0m     \u001b[0mnorm\u001b[0m \u001b[0;34m=\u001b[0m \u001b[0mplt\u001b[0m\u001b[0;34m.\u001b[0m\u001b[0mNormalize\u001b[0m\u001b[0;34m(\u001b[0m\u001b[0mmini\u001b[0m\u001b[0;34m,\u001b[0m \u001b[0mmaxi\u001b[0m\u001b[0;34m)\u001b[0m\u001b[0;34m\u001b[0m\u001b[0m\n",
      "\u001b[0;32m<ipython-input-149-267c441467bf>\u001b[0m in \u001b[0;36m<listcomp>\u001b[0;34m(.0)\u001b[0m\n\u001b[1;32m      2\u001b[0m \u001b[0;32mdef\u001b[0m \u001b[0mplot_synthetic_data\u001b[0m\u001b[0;34m(\u001b[0m\u001b[0mStest\u001b[0m\u001b[0;34m,\u001b[0m \u001b[0mscores\u001b[0m\u001b[0;34m)\u001b[0m\u001b[0;34m:\u001b[0m\u001b[0;34m\u001b[0m\u001b[0m\n\u001b[1;32m      3\u001b[0m     \u001b[0mscores\u001b[0m \u001b[0;34m=\u001b[0m \u001b[0mnp\u001b[0m\u001b[0;34m.\u001b[0m\u001b[0msqueeze\u001b[0m\u001b[0;34m(\u001b[0m\u001b[0mscores\u001b[0m\u001b[0;34m)\u001b[0m\u001b[0;34m\u001b[0m\u001b[0m\n\u001b[0;32m----> 4\u001b[0;31m     \u001b[0mscore_plot\u001b[0m \u001b[0;34m=\u001b[0m \u001b[0;34m[\u001b[0m\u001b[0mnp\u001b[0m\u001b[0;34m.\u001b[0m\u001b[0marray\u001b[0m\u001b[0;34m(\u001b[0m\u001b[0;34m[\u001b[0m\u001b[0msc\u001b[0m\u001b[0;34m]\u001b[0m\u001b[0;34m*\u001b[0m\u001b[0mSplot\u001b[0m\u001b[0;34m[\u001b[0m\u001b[0midx\u001b[0m\u001b[0;34m]\u001b[0m\u001b[0;34m.\u001b[0m\u001b[0mshape\u001b[0m\u001b[0;34m[\u001b[0m\u001b[0;36m0\u001b[0m\u001b[0;34m]\u001b[0m\u001b[0;34m)\u001b[0m \u001b[0;32mfor\u001b[0m \u001b[0midx\u001b[0m\u001b[0;34m,\u001b[0m \u001b[0msc\u001b[0m \u001b[0;32min\u001b[0m \u001b[0menumerate\u001b[0m\u001b[0;34m(\u001b[0m\u001b[0mscores\u001b[0m\u001b[0;34m)\u001b[0m\u001b[0;34m]\u001b[0m\u001b[0;34m\u001b[0m\u001b[0m\n\u001b[0m\u001b[1;32m      5\u001b[0m     \u001b[0mmini\u001b[0m\u001b[0;34m,\u001b[0m \u001b[0mmaxi\u001b[0m \u001b[0;34m=\u001b[0m \u001b[0;34m-\u001b[0m\u001b[0;36m2.5\u001b[0m\u001b[0;34m,\u001b[0m \u001b[0;36m2.5\u001b[0m\u001b[0;34m\u001b[0m\u001b[0m\n\u001b[1;32m      6\u001b[0m     \u001b[0mnorm\u001b[0m \u001b[0;34m=\u001b[0m \u001b[0mplt\u001b[0m\u001b[0;34m.\u001b[0m\u001b[0mNormalize\u001b[0m\u001b[0;34m(\u001b[0m\u001b[0mmini\u001b[0m\u001b[0;34m,\u001b[0m \u001b[0mmaxi\u001b[0m\u001b[0;34m)\u001b[0m\u001b[0;34m\u001b[0m\u001b[0m\n",
      "\u001b[0;31mIndexError\u001b[0m: list index out of range"
     ]
    },
    {
     "data": {
      "image/png": "[encoded data removed]",
      "text/plain": [
       "<Figure size 432x288 with 1 Axes>"
      ]
     },
     "metadata": {},
     "output_type": "display_data"
    }
   ],
   "source": [
    "precision = np.zeros((10, 10))\n",
    "recall = np.zeros((10, 10))\n",
    "for i, sigma in enumerate([0.1]):#01 * i for i in range(1, 10)]):\n",
    "    K = compute_kernel(Strain, sigma)\n",
    "    Ktest = compute_cross_kernel(Stest, Strain, sigma)\n",
    "    for j, nu in enumerate([0.1]):#[1 - 0.1 * i for i in range(1, 10)]):\n",
    "        ocsmm = OneClassSVM(kernel='precomputed', nu=nu)\n",
    "        ocsmm.fit(K)\n",
    "        Ypred = ocsmm.predict(Ktest)\n",
    "        scores = ocsmm.decision_function(Ktest)\n",
    "        precision[i, j] = precision_score(Ytest, Ypred)\n",
    "        recall[i, j] = recall_score(Ytest, Ypred)\n",
    "        print('sigma: %f, nu: %f, precision: %f, recall: %f' % (sigma, nu, precision[i, j], recall[i, j]))\n",
    "    plt.figure()\n",
    "    plt.plot(recall[i, :], precision[i, :])\n",
    "# for i in range(10):\n",
    "\n",
    "print(scores)\n",
    "plot_roc_curve(scores, Ytest)"
   ]
  },
  {
   "cell_type": "code",
   "execution_count": 154,
   "metadata": {},
   "outputs": [
    {
     "data": {
      "image/png": "[encoded data removed]",
      "text/plain": [
       "<Figure size 432x288 with 1 Axes>"
      ]
     },
     "metadata": {},
     "output_type": "display_data"
    }
   ],
   "source": [
    "plot_roc_curve(scores, Ytest)"
   ]
  },
  {
   "cell_type": "code",
   "execution_count": 115,
   "metadata": {},
   "outputs": [
    {
     "data": {
      "image/png": "[encoded data removed]",
      "text/plain": [
       "<Figure size 432x288 with 1 Axes>"
      ]
     },
     "metadata": {},
     "output_type": "display_data"
    }
   ],
   "source": [
    "plt.figure()\n",
    "plt.plot(recall[1, :-1], precision[1, :-1])\n",
    "plt.xlabel('Recall')\n",
    "plt.ylabel('Precision')\n",
    "plt.savefig('PR.png')"
   ]
  },
  {
   "cell_type": "code",
   "execution_count": 138,
   "metadata": {},
   "outputs": [
    {
     "name": "stdout",
     "output_type": "stream",
     "text": [
      "[ 0.01677015  0.02221209  0.00534195  0.01190838  0.01555555  0.00648894\n",
      "  0.01435072  0.00558208  0.0059733  -0.02639796  0.02212643  0.0190522 ]\n",
      "[ 1  1  1  1  1  1  1  1  1 -1  1  1]\n",
      "[1, 1, 1, 1, 1, 1, 1, 1, 1, -1, -1, -1]\n"
     ]
    }
   ],
   "source": [
    "print(scores)\n",
    "print(Ypred)\n",
    "print(Ytest)"
   ]
  },
  {
   "cell_type": "code",
   "execution_count": null,
   "metadata": {},
   "outputs": [],
   "source": []
  }
 ],
 "metadata": {
  "kernelspec": {
   "display_name": "Python [default]",
   "language": "python",
   "name": "python3"
  },
  "language_info": {
   "codemirror_mode": {
    "name": "ipython",
    "version": 3
   },
   "file_extension": ".py",
   "mimetype": "text/x-python",
   "name": "python",
   "nbconvert_exporter": "python",
   "pygments_lexer": "ipython3",
   "version": "3.6.4"
  }
 },
 "nbformat": 4,
 "nbformat_minor": 2
}
